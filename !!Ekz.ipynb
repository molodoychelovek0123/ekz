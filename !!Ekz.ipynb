{
 "cells": [
  {
   "cell_type": "markdown",
   "id": "ffc89e3d",
   "metadata": {},
   "source": [
    "# Билет 1\n",
    "## Теория \n",
    "### Очереди\n",
    "**Очередь** - Это структура данных, добавление и удаление элементов в которой происходит путем операций *push* и *pop*\\\n",
    "**Стэк** - Структура данных, элементы который получают по принципу LIFO (Last-In-First-Out). Это означает, что мы имеем доступ только к последнему добавленному элементу. Последний добавленный элемент называется верхушкой стека (*top*)\\\n",
    "**Методы Стэка**: *Push* - Добавляет элемент на вершину стека, сложность O(1); *Pop* - возврашает элемент с вершину стека и удаляет его, сложность O(1); *Peek* -  Возвращает верхний элемент стека, но не удаляет его, сложность O(1) *Empty* -  пустой ли стек, сложность O(1) *size* -  возврашает размер стека, сложность O(1)\\\n",
    "**Очередь** - Похож на стек, но элементы получаются по принципу FIFO (First-In-First-Out) То есть забирать элементы из очереди мы будем в том же порядке, что и клали. \\\n",
    "**Методы очереди**: *Enqueue* - Добавляет элемент в очередь, сложность O(1); *Dequeue* - Возвращает элемент очереди, удаляет его, сложность O(1); *Peek* -  Возвращает элемент очереди, но не удаляет его, сложность O(1) *Empty* -  пустая ли очередь, сложность O(1) *size* -  возврашает размер, сложность O(1)\\\n",
    "**Дек (или Двусторонняя очередь ебать)** - Очередь на максималках. Расширяет поведение очереди. В дек можно кидать и получать(удалять) элементы с двух сторон, как сначала так и с конца. \\\n",
    "**Методы дека**: Основное отличие двусторонней очереди от обычной — методы Enqueue, Dequeue, и Peek разделены на пары для работы с обоими концами списка. То есть у нас есть *EnqueueFirst, EnqueueLast, DequeueFirst, DequeueLast, PeekFirst, PeekLast*\\\n",
    "**Преимущества**: Стек и очереди помогают в управлении данными, которые следуют методу LIFO, FIFO\\ Эффективное использование памяти\\ Более безопасны и надежны, потому что сложнее повредить \n",
    "### Списки Прочтите эту хуйню, может что-то поймете\n",
    "https://neerc.ifmo.ru/wiki/index.php?title=Список\n",
    "## Сортировка вставкой диагонали массива"
   ]
  },
  {
   "cell_type": "code",
   "execution_count": 2,
   "id": "d6dd777e",
   "metadata": {},
   "outputs": [
    {
     "name": "stdout",
     "output_type": "stream",
     "text": [
      "   1   5   1\n",
      "   2   2   3\n",
      "   3   9   4\n"
     ]
    }
   ],
   "source": [
    "def printMatrix(matrix):\n",
    "    for i in range(len(matrix)):\n",
    "        for j in range(len(matrix[i])):\n",
    "            print(\"{:4d}\".format(matrix[i][j]),end = \"\")\n",
    "        print()\n",
    "def insertion_sort(arr):\n",
    "    for i in range(len(arr)):\n",
    "        j = i - 1\n",
    "        key = arr[i]\n",
    "        while arr[j] > key and j>=0:\n",
    "            arr[j],arr[j+1] = arr[j+1], arr[j]\n",
    "            j-=1\n",
    "    return arr\n",
    "\n",
    "matrix = [[4,5,1],[2,1,3],[3,9,2]]\n",
    "s1 = 0\n",
    "s2 = 0\n",
    "diag = []\n",
    "while True:\n",
    "    try:\n",
    "        diag.append(matrix[s1][s2])\n",
    "        s1+=1\n",
    "        s2+=1\n",
    "    except IndexError:\n",
    "        break\n",
    "diag = insertion_sort(diag)\n",
    "s1,s2,i = 0,0,0\n",
    "while True:\n",
    "    try:\n",
    "        matrix[s1][s2] = diag[i]\n",
    "        s1+=1\n",
    "        s2+=1\n",
    "        i+=1\n",
    "    except IndexError:\n",
    "        break\n",
    "printMatrix(matrix)"
   ]
  },
  {
   "cell_type": "markdown",
   "id": "e3a5e7a6",
   "metadata": {},
   "source": [
    "## Прога на манипуляции с 2 строками"
   ]
  },
  {
   "cell_type": "code",
   "execution_count": null,
   "id": "c0ffbe95",
   "metadata": {},
   "outputs": [],
   "source": []
  },
  {
   "cell_type": "markdown",
   "id": "b6ff8a8e",
   "metadata": {},
   "source": [
    "# Билет 2\n",
    "## Теория \n",
    "### Методы поиска\n",
    "**Линейный поиск** -  простейший алгоритм поиска. Он редко используется из-за своей неэффективности. По сути, это метод полного перебора\\\n",
    " временная сложность линейного поиска равна O(N)\\\n",
    "**Двоичный поиск** - Алгоритм делит входную коллекцию на равные половины, и с каждой итерацией сравнивает целевой элемент с элементом в середине. Поиск заканчивается при нахождении элемента. Иначе продолжаем искать элемент, разделяя и выбирая соответствующий раздел массива. Целевой элемент сравнивается со средним.  Если мы ничего не нашли и целевой элемент достигает последнего элемента \\\n",
    "  Временная сложность алгоритма двоичного поиска равна O(log (N)) из-за деления массива пополам. \\\n",
    "**Интерполяционный поиск** - \n",
    "# А нахуй мне все это надо? Я устал. Я верю, что кто-нибудь напишет это завтра \n",
    "\n",
    "## Массив чисел, вывести наибольшее число которое можно из них  состав\n"
   ]
  },
  {
   "cell_type": "code",
   "execution_count": 7,
   "id": "7a760102",
   "metadata": {},
   "outputs": [
    {
     "name": "stdout",
     "output_type": "stream",
     "text": [
      "2 3 12 444 555\n",
      "5554443212\n"
     ]
    }
   ],
   "source": [
    "nums = list(map(int,(input().split())))\n",
    "for i in range(len(nums)):\n",
    "    nums[i] = str(nums[i])\n",
    "print(\"\".join(sorted(nums,reverse = True)))"
   ]
  },
  {
   "cell_type": "markdown",
   "id": "047beb31",
   "metadata": {},
   "source": [
    "## Длина наибольшей неповторяющейся строки"
   ]
  },
  {
   "cell_type": "code",
   "execution_count": 11,
   "id": "fee4bfdc",
   "metadata": {},
   "outputs": [
    {
     "name": "stdout",
     "output_type": "stream",
     "text": [
      "{'a', 's'}\n",
      "{'a', 'g', 'f', 'd'}\n",
      "{'c', 'a', 'b'}\n",
      "4\n"
     ]
    }
   ],
   "source": [
    "def dlS(strk):\n",
    "    s = set()\n",
    "    mx = 0 \n",
    "    current = 0\n",
    "    for i in strk:\n",
    "        if i not in s:\n",
    "            s.add(i)\n",
    "            current += 1\n",
    "        else:\n",
    "            mx = max(mx,current)\n",
    "            \n",
    "            s.clear()\n",
    "            current = 0\n",
    "            \n",
    "            s.add(i)\n",
    "            current += 1\n",
    "    return max(mx,current)\n",
    "print(dlS(\"assaagfdabc\"))"
   ]
  },
  {
   "cell_type": "markdown",
   "id": "e8e751cc",
   "metadata": {},
   "source": [
    "# Билет 3 \n",
    "## Задача с кандидатами (не помню как она там формулируется) "
   ]
  },
  {
   "cell_type": "code",
   "execution_count": 12,
   "id": "edb45859",
   "metadata": {},
   "outputs": [
    {
     "name": "stdout",
     "output_type": "stream",
     "text": [
      "2 3 2 5 4 2 9\n",
      "8\n",
      "[[2, 2, 2, 2], [2, 2, 4], [2, 3, 3], [2, 4, 2], [3, 2, 3], [3, 3, 2], [3, 5], [4, 2, 2], [4, 4], [5, 3]]\n"
     ]
    }
   ],
   "source": [
    "def findSum(arr,ind,n,sol,res):\n",
    "    if n == 0:\n",
    "        if sol not in res:\n",
    "            res.append(sol)\n",
    "    for i in range(len(arr)):\n",
    "        if arr[i] <= n:\n",
    "            findSum(arr, i, n - arr[i], sol + [arr[i]],res)\n",
    "        else: \n",
    "            return\n",
    "arr = list(map(int,(input().split())))\n",
    "n = int(input())\n",
    "arr = sorted(arr)\n",
    "sol = []\n",
    "res = []\n",
    "\n",
    "findSum(arr, 0, n, sol, res)\n",
    "print(res)"
   ]
  },
  {
   "cell_type": "markdown",
   "id": "eabd605e",
   "metadata": {},
   "source": [
    "## Задача про треугольник"
   ]
  },
  {
   "cell_type": "code",
   "execution_count": 14,
   "id": "99b19900",
   "metadata": {},
   "outputs": [
    {
     "name": "stdout",
     "output_type": "stream",
     "text": [
      "5 4 3\n"
     ]
    }
   ],
   "source": [
    "import math\n",
    "def triangleArea(a,b,c):\n",
    "    p = (a+b+c)/2\n",
    "    return (math.sqrt(p*(p-a)*(p-b)*(p*c)))\n",
    "\n",
    "mas = [13, 3, 4, 5]\n",
    "n = len(mas)\n",
    "mas.sort()\n",
    "maxArea = 0\n",
    "maxA, maxB, maxC = 0,0,0\n",
    "f = False\n",
    "for i in range(n-1,1,-1):\n",
    "    if mas[i] < mas[i-1] + mas[i-2] and mas[i] + mas[i-1] > mas[i-2] and mas[i] + mas[i-2] > mas[i-1]: # Проверка на возможность сделать треугольник \n",
    "        f = True\n",
    "        if triangleArea(maxA, maxB, maxC) < triangleArea(mas[i], mas[i-1], mas[i-2]):\n",
    "            maxA, maxB, maxC = mas[i], mas[i-1], mas[i-2]\n",
    "       \n",
    "        \n",
    "if f is False:\n",
    "    print(0)\n",
    "else:\n",
    "     print(maxA, maxB, maxC)"
   ]
  },
  {
   "cell_type": "markdown",
   "id": "133b38e3",
   "metadata": {},
   "source": [
    "# Билет 4\n",
    "## Матрица спиралью"
   ]
  },
  {
   "cell_type": "code",
   "execution_count": 20,
   "id": "b428a1be",
   "metadata": {},
   "outputs": [
    {
     "name": "stdout",
     "output_type": "stream",
     "text": [
      "[1, 2, 3, 4, 8, 12, 11, 10, 9, 5, 6, 7]\n"
     ]
    }
   ],
   "source": [
    "def spiralMatrix(matrix):\n",
    "    row = len(matrix)\n",
    "    col = len(matrix[0])\n",
    "    arr = []\n",
    "    for i in matrix:\n",
    "        arr += i\n",
    "    arr = sorted(arr)\n",
    "    matrix = []\n",
    "    for i in range(row):\n",
    "        matrix.append(arr[i*col:i*col + col])\n",
    "    arr = []\n",
    "    N = len(matrix) * len(matrix[0]) # Количество элементов\n",
    "    IStart = 0 # Верхняя граница\n",
    "    IEnd = 0 # Нижняя граница\n",
    "    JStart = 0 # Левая граница\n",
    "    JEnd = 0 # Нижняя граница\n",
    "    arr = []\n",
    "    i = 0\n",
    "    j = 0\n",
    "    k = 0 # Количество проверенных элементов\n",
    "    while k < N:\n",
    "        arr.append(matrix[i][j])\n",
    "        if i == IStart and j < col - JEnd - 1: # Если мы находимся на верхней границы и не у правой границы\n",
    "            j += 1 # Двигаемся в сторону правой границы\n",
    "        elif j == col - JEnd - 1 and i < row - IEnd - 1: # Если мы находимся на правой границе и не на нижней границе\n",
    "            i += 1 # Двигаемся в сторону нижней границы\n",
    "        elif i == row - IEnd - 1 and j > JStart:  # Если мы находимся на нижней границе и не на левой\n",
    "            j -= 1 # Двигаемся в сторону левой границы\n",
    "        else:  # Если мы находимся на левой границе и не не на верхней\n",
    "            i -= 1 # Двигаемся в сторону верхней границы\n",
    "        \n",
    "        if i == IStart + 1 and j == JStart and JStart != col - JEnd - 1: # Сужаем границы\n",
    "            IStart += 1 # Верхняя граница\n",
    "            IEnd += 1 # Нижняя граница\n",
    "            JStart += 1 # Левая граница\n",
    "            JEnd += 1 # Нижняя граница\n",
    "        k+=1\n",
    "    return arr\n",
    "\n",
    "print(spiralMatrix([[1, 2, 3, 4], [5, 6, 7, 8], [9, 10, 11, 12]]))"
   ]
  },
  {
   "cell_type": "markdown",
   "id": "9f05d983",
   "metadata": {},
   "source": [
    "## Вывести строки в обратном порядке с помощью стека "
   ]
  },
  {
   "cell_type": "code",
   "execution_count": null,
   "id": "172bc26b",
   "metadata": {},
   "outputs": [],
   "source": [
    "class Stack: \n",
    "    def __init__(self):\n",
    "        self.stacks=list()\n",
    "    def testing_null(self):\n",
    "        return len(self.stacks)==0\n",
    "    def add(self, el):\n",
    "        self.stacks.append(el)\n",
    "    def pop(self):\n",
    "        if self.testing_null():\n",
    "            return None\n",
    "        else:\n",
    "            return self.stacks.pop()\n",
    "def add_with_file(file):\n",
    "    st = Stack()\n",
    "    try:\n",
    "        f=open(file+'.txt','r')\n",
    "        t=f.readlines()\n",
    "        f.close()\n",
    "        for i in range(len(t)):\n",
    "            st.add(t[i])\n",
    "        return st\n",
    "    except:\n",
    "        print(\"Error, не удалось найти файл\")\n",
    "        return None\n",
    "def add_file(file, stack):\n",
    "    try:\n",
    "        f=open(file+'.txt',\"w\", encoding=\"utf-8\")\n",
    "        while not stack.testing_null():\n",
    "            f.write(stack.pop())\n",
    "        f.close()\n",
    "    except:\n",
    "        print(\"Ошибка\")\n",
    "        return None\n",
    "st = add_with_file(\"input.txt\")\n",
    "if st is None:\n",
    "    return\n",
    "add_file(\"output.txt\", st)"
   ]
  },
  {
   "cell_type": "markdown",
   "id": "e65e1bab",
   "metadata": {},
   "source": [
    "# Билет 5\n",
    "## Проверить баланс скобок в файле с помощью дека"
   ]
  },
  {
   "cell_type": "code",
   "execution_count": null,
   "id": "a2420091",
   "metadata": {},
   "outputs": [],
   "source": [
    "class Deq:\n",
    "    def __init__(self):\n",
    "        self.deqs=list()\n",
    "    \n",
    "    def add_left(self, el):\n",
    "        self.deqs.insert(0, el)\n",
    "        \n",
    "    def add_right(self, el):\n",
    "        self.deqs.append(el)\n",
    "        \n",
    "    def testing_null(self):\n",
    "        return len(self.deqs)==0\n",
    "    \n",
    "    def pop_right(self):\n",
    "        if self.testing_null():\n",
    "            return None\n",
    "        else:\n",
    "            return self.deqs.pop()\n",
    "        \n",
    "    def pop_left(self):\n",
    "        if self.testing_null():\n",
    "            return None\n",
    "        else:\n",
    "            return self.deqs.pop(0)\n",
    "        \n",
    "def balance(file):\n",
    "    s=Deq()\n",
    "    st = \"\"\n",
    "    try:\n",
    "        f=open(file+'.txt', 'r',encoding='utf-8')\n",
    "        t=f.readlines()\n",
    "        f.close()\n",
    "        for i in range(len(t)):\n",
    "            st=st+t[i]\n",
    "    except:\n",
    "        print(\"Error, не удалось найти файл\")\n",
    "        return None\n",
    "    \n",
    "    if st is None:\n",
    "        return\n",
    "    for i in st:\n",
    "        if i=='[':\n",
    "            s.add_right(i)\n",
    "        elif i==']':\n",
    "            if s.testing_null():\n",
    "                return False\n",
    "            s.pop_right()\n",
    "    return s.testing_null()\n",
    "\n",
    "balance(\"input.txt\")"
   ]
  },
  {
   "cell_type": "markdown",
   "id": "d5e77696",
   "metadata": {},
   "source": [
    "## Отсортировать по возрастанию все диагонали в матрице "
   ]
  },
  {
   "cell_type": "code",
   "execution_count": 29,
   "id": "78b7a12b",
   "metadata": {},
   "outputs": [
    {
     "name": "stdout",
     "output_type": "stream",
     "text": [
      "   1   2   3\n",
      "   2   6   4\n",
      "   0   5   9\n"
     ]
    }
   ],
   "source": [
    "def printMatrix(matrix):\n",
    "    for i in range(len(matrix)):\n",
    "        for j in range(len(matrix[i])):\n",
    "            print(\"{:4d}\".format(matrix[i][j]), end = \"\" )\n",
    "        print()\n",
    "def sortDiag(matrix, s3, s4):\n",
    "    diag = []\n",
    "    s1, s2 = s3, s4\n",
    "    while True:\n",
    "        try:\n",
    "            diag.append(matrix[s1][s2])\n",
    "            s1+=1\n",
    "            s2+=1\n",
    "        except IndexError:\n",
    "            break\n",
    "    diag = sorted(diag)\n",
    "    s1, s2, i = s3, s4, 0\n",
    "    while True:\n",
    "        try:\n",
    "            matrix[s1][s2] = diag[i]\n",
    "            s1+=1\n",
    "            s2+=1\n",
    "            i+=1\n",
    "        except IndexError:\n",
    "            break\n",
    "def sortDiags(matrix):\n",
    "    for i in range(len(matrix)):\n",
    "        sortDiag(matrix,i,0)\n",
    "    for i in range(1,len(matrix[0])):\n",
    "        sortDiag(matrix,0,i)\n",
    "    return matrix\n",
    "printMatrix(sortDiags([[1,2,3],[2,9,4],[0,5,6]]))"
   ]
  },
  {
   "cell_type": "code",
   "execution_count": null,
   "id": "1969a445",
   "metadata": {},
   "outputs": [],
   "source": []
  }
 ],
 "metadata": {
  "kernelspec": {
   "display_name": "Python 3 (ipykernel)",
   "language": "python",
   "name": "python3"
  },
  "language_info": {
   "codemirror_mode": {
    "name": "ipython",
    "version": 3
   },
   "file_extension": ".py",
   "mimetype": "text/x-python",
   "name": "python",
   "nbconvert_exporter": "python",
   "pygments_lexer": "ipython3",
   "version": "3.9.7"
  }
 },
 "nbformat": 4,
 "nbformat_minor": 5
}
